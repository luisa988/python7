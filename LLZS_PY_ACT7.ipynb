{
  "nbformat": 4,
  "nbformat_minor": 0,
  "metadata": {
    "colab": {
      "provenance": [],
      "authorship_tag": "ABX9TyPNeQXzCOFK4TnwJ9a5v89h",
      "include_colab_link": true
    },
    "kernelspec": {
      "name": "python3",
      "display_name": "Python 3"
    },
    "language_info": {
      "name": "python"
    }
  },
  "cells": [
    {
      "cell_type": "markdown",
      "metadata": {
        "id": "view-in-github",
        "colab_type": "text"
      },
      "source": [
        "<a href=\"https://colab.research.google.com/github/luisa988/python7/blob/main/LLZS_PY_ACT7.ipynb\" target=\"_parent\"><img src=\"https://colab.research.google.com/assets/colab-badge.svg\" alt=\"Open In Colab\"/></a>"
      ]
    },
    {
      "cell_type": "markdown",
      "source": [
        "Nombre: Luisa Zerega.\n",
        "\n",
        "Materia: Python.\n",
        "\n",
        "Actividad 7 ciclos y funciones.\n",
        "\n",
        "Matricula: 356491\n",
        "\n",
        "Descripcion: 1.- Función que utilice una lista con los nombres de tus mascotas, o artistas favoritos, (minimo 5, maximo 10) imprimir las cadenas y la cantidad de caracteres de cada cadena.  \n",
        "\n",
        "EJEMPLO SALIDA:\n",
        "\n",
        "[0]SCARLETT --> 8 CARACTERES\n",
        "\n",
        "[1]GATINA --> 6 CARACTERES\n",
        "\n",
        "[2]PELUSA --> 6 CARACTERES\n",
        "\n",
        "[3]PELUSINA --> 8 CARACTERES\n",
        "\n",
        "[4]MILO --> 4 CARACTERES\n",
        "\n",
        "[5]KHALIFA --> 7 CARACTERES\n",
        "\n"
      ],
      "metadata": {
        "id": "8yUiItr1MGkE"
      }
    },
    {
      "cell_type": "code",
      "source": [
        "def imprimir_artistas(artistas):\n",
        "    try:\n",
        "        for i, artista in enumerate(artistas):\n",
        "            print(f\"[{i}] {artista} --> {len(artista)} CARACTERES\")\n",
        "\n",
        "    except ValueError as e:\n",
        "        print(str(e))\n",
        "\n",
        "artistas = [\"Don Omar\", \"Lana del rey\", \"Taylor Swift\", \"Luis Miguel\", \"Michael Jackson\", \"Sam Smith\"]\n",
        "imprimir_artistas(artistas)\n"
      ],
      "metadata": {
        "id": "H2xXDHVRSy7Z",
        "colab": {
          "base_uri": "https://localhost:8080/",
          "height": 0
        },
        "outputId": "2dd6de94-482d-40b8-afc8-2535d0f563b2"
      },
      "execution_count": 13,
      "outputs": [
        {
          "output_type": "stream",
          "name": "stdout",
          "text": [
            "[0] Don Omar --> 8 CARACTERES\n",
            "[1] Lana del rey --> 12 CARACTERES\n",
            "[2] Taylor Swift --> 12 CARACTERES\n",
            "[3] Luis Miguel --> 11 CARACTERES\n",
            "[4] Michael Jackson --> 15 CARACTERES\n",
            "[5] Sam Smith --> 9 CARACTERES\n"
          ]
        }
      ]
    },
    {
      "cell_type": "markdown",
      "source": [
        "Descripcion:  Programa que utilice 2 funciones,\n",
        "\n",
        "Función que genere y regrese una lista con 10 números aleatorios entre el 30 y 50 (no repetidos).\n",
        "\n",
        "Función que reciba una lista , Imprimir la lista (Indice y Valor )\n",
        "\n",
        "\n",
        " Mandar llamar la función e imprimir toda la lista."
      ],
      "metadata": {
        "id": "Md6CN1-8VYNF"
      }
    },
    {
      "cell_type": "code",
      "source": [
        "import random\n",
        "\n",
        "def generar_lista_aleatoria():\n",
        "    lista = random.sample(range(30, 51), 10)\n",
        "    return lista\n",
        "\n",
        "def imprimir_lista(lista):\n",
        "    for indice, valor in enumerate(lista):\n",
        "        print(f\": {indice} --> : {valor}\")\n",
        "\n",
        "lista_aleatoria = generar_lista_aleatoria()\n",
        "imprimir_lista(lista_aleatoria)\n"
      ],
      "metadata": {
        "colab": {
          "base_uri": "https://localhost:8080/",
          "height": 0
        },
        "id": "sQenOSmUTCFp",
        "outputId": "ef3b72ff-307a-4e47-dfef-a015e274586c"
      },
      "execution_count": 15,
      "outputs": [
        {
          "output_type": "stream",
          "name": "stdout",
          "text": [
            ": 0 --> : 37\n",
            ": 1 --> : 42\n",
            ": 2 --> : 49\n",
            ": 3 --> : 33\n",
            ": 4 --> : 31\n",
            ": 5 --> : 43\n",
            ": 6 --> : 41\n",
            ": 7 --> : 48\n",
            ": 8 --> : 32\n",
            ": 9 --> : 46\n"
          ]
        }
      ]
    },
    {
      "cell_type": "markdown",
      "source": [
        "Descripcion: 3.- Escribe una función que reciba dos listas de números del mismo tamaño y calcule la suma de los elementos correspondientes de cada lista. (regresar una nueva lista) . Luego, muestra una lista con los resultados de cada suma. Nota: si las listas no son del mismo tamaño mandar msge y utilizar el tamaño de la lista mas pequeña)\n",
        "\n"
      ],
      "metadata": {
        "id": "PUpRlTdrWT_b"
      }
    },
    {
      "cell_type": "code",
      "source": [
        "def suma_listas(lista1, lista2):\n",
        "    try:\n",
        "        if len(lista1) != len(lista2):\n",
        "            raise ValueError(\"Las listas no tienen el mismo tamaño\")\n",
        "\n",
        "        resultados = []\n",
        "        for i in range(len(lista1)):\n",
        "            suma = lista1[i] + lista2[i]\n",
        "            resultados.append(suma)\n",
        "\n",
        "        return resultados\n",
        "\n",
        "    except ValueError as e:\n",
        "        return str(e)\n",
        "lista1 = [1, 2, 3, 4]\n",
        "lista2 = [5, 6, 7, 8]\n",
        "\n",
        "resultados = suma_listas(lista1, lista2)\n",
        "print(resultados)"
      ],
      "metadata": {
        "id": "leZW5Q2AWUOR",
        "colab": {
          "base_uri": "https://localhost:8080/"
        },
        "outputId": "3adf919d-c4c4-468e-a803-d51234016c44"
      },
      "execution_count": null,
      "outputs": [
        {
          "output_type": "stream",
          "name": "stdout",
          "text": [
            "[6, 8, 10, 12]\n"
          ]
        }
      ]
    },
    {
      "cell_type": "markdown",
      "source": [
        "Descripcion: Escribe una función llamada eliminar_duplicados que reciba una lista como parámetro y elimine los elementos duplicados. El resultado debe ser una nueva lista sin duplicados. Pide al usuario que ingrese una lista y luego llama a la función eliminar_duplicados para mostrar la lista sin duplicados. (Solo Numeros enteros, validar)"
      ],
      "metadata": {
        "id": "hhzR0Yr-LnpO"
      }
    },
    {
      "cell_type": "code",
      "source": [
        "def eliminar_duplicados(lista):\n",
        "    try:\n",
        "        lista_sin_duplicados = list(set(lista))\n",
        "        lista_sin_duplicados.sort()\n",
        "        return lista_sin_duplicados\n",
        "    except TypeError:\n",
        "        print(\"Error: La lista debe contener solo números enteros 0.o \")\n",
        "\n",
        "lista_usuario = input(\"Ingrese una lista de números enteros separados por espacios: \").split()\n",
        "\n",
        "try:\n",
        "    lista_usuario = [int(num) for num in lista_usuario]\n",
        "    lista_sin_duplicados = eliminar_duplicados(lista_usuario)\n",
        "    print(\"Lista sin duplicados:\", lista_sin_duplicados)\n",
        "except ValueError:\n",
        "    print(\"Error: La lista debe contener solo números enteros separados por espacios 0.o\")\n"
      ],
      "metadata": {
        "colab": {
          "base_uri": "https://localhost:8080/"
        },
        "id": "Xrgc0ohBLlwU",
        "outputId": "6f34d22a-65d2-4101-e4a8-7c4553701a4b"
      },
      "execution_count": null,
      "outputs": [
        {
          "output_type": "stream",
          "name": "stdout",
          "text": [
            "Ingrese una lista de números enteros separados por espacios: 10 10 10 20 30 40 40 56\n",
            "Lista sin duplicados: [10, 20, 30, 40, 56]\n"
          ]
        }
      ]
    },
    {
      "cell_type": "markdown",
      "source": [
        "Descripcion: Escribe una función que calcule la media y la mediana de una lista de números enteros.\n",
        "\n",
        "La media es la suma de todos los elementos y dividido entre la cantidad de elementos\n",
        "\n",
        "La mediana es el valor que queda en la mitad de la lista cuando se ordena de forma ascendente. Si la lista tiene un número par de elementos, la mediana se calcula como el promedio de los dos valores centrales. Puedes utilizar el método sort() para ordenar la lista y luego calcular la mediana según el tamaño de la lista.\n",
        "\n"
      ],
      "metadata": {
        "id": "IYL4rAwPNnUD"
      }
    },
    {
      "cell_type": "code",
      "source": [
        "def calcular_media_mediana(lista):\n",
        "    try:\n",
        "        media = sum(lista) / len(lista)\n",
        "        lista.sort()\n",
        "\n",
        "        if len(lista) % 2 == 0:\n",
        "            indice_medio = len(lista) // 2\n",
        "            mediana = (lista[indice_medio - 1] + lista[indice_medio]) / 2\n",
        "        else:\n",
        "            indice_medio = len(lista) // 2\n",
        "            mediana = lista[indice_medio]\n",
        "\n",
        "        return media, mediana\n",
        "    except TypeError:\n",
        "        print(\"Error: La lista debe contener solo números enteros 0.o \")\n",
        "\n",
        "lista_usuario = input(\"Ingrese una lista de números enteros separados por espacios: \").split()\n",
        "\n",
        "try:\n",
        "    lista_usuario = [int(num) for num in lista_usuario]\n",
        "    media, mediana = calcular_media_mediana(lista_usuario)\n",
        "\n",
        "    print(\"Media:\", media)\n",
        "    print(\"Mediana:\", mediana)\n",
        "except ValueError:\n",
        "    print(\"Error: La lista debe contener solo números enteros separados por espacios.\")\n"
      ],
      "metadata": {
        "colab": {
          "base_uri": "https://localhost:8080/"
        },
        "id": "bYPOtHhrNntf",
        "outputId": "4088fbb3-4e4a-4c8c-da09-bedbdc5eb462"
      },
      "execution_count": null,
      "outputs": [
        {
          "output_type": "stream",
          "name": "stdout",
          "text": [
            "Ingrese una lista de números enteros separados por espacios: 20 31 31 12 2 34 56 66\n",
            "Media: 31.5\n",
            "Mediana: 31.0\n"
          ]
        }
      ]
    },
    {
      "cell_type": "markdown",
      "source": [
        "Descripcion: Escribe una función que calcule la media móvil de una lista de números enteros. La media móvil es el promedio de un número determinado de elementos consecutivos de la lista. Puedes utilizar unciclo y una variable de suma para calcular la media móvil de cada sublista y guardar los resultados en otra lista."
      ],
      "metadata": {
        "id": "uugLWVSWO-7G"
      }
    },
    {
      "cell_type": "code",
      "source": [
        "def calcular_media_movil(lista, n):\n",
        "    try:\n",
        "        media_movil = []\n",
        "\n",
        "        for i in range(len(lista) - n + 1):\n",
        "            sublista = lista[i:i+n]\n",
        "            suma = sum(sublista)\n",
        "            media = suma / n\n",
        "            media_movil.append(media)\n",
        "\n",
        "        return media_movil\n",
        "    except TypeError:\n",
        "        print(\"Error: La lista debe contener solo números enteros.\")\n",
        "\n",
        "lista_usuario = input(\"Ingrese una lista de números enteros separados por espacios: \").split()\n",
        "\n",
        "try:\n",
        "    lista_usuario = [int(num) for num in lista_usuario]\n",
        "    n = int(input(\"Ingrese el número de elementos consecutivos para calcular la media móvil: \"))\n",
        "    lista_medias_moviles = calcular_media_movil(lista_usuario, n)\n",
        "    print(\"Lista de medias móviles:\", lista_medias_moviles)\n",
        "except ValueError:\n",
        "    print(\"Error: La lista debe contener solo números enteros separados por espacios.\")\n"
      ],
      "metadata": {
        "colab": {
          "base_uri": "https://localhost:8080/"
        },
        "id": "Vo0PYSh6O_Xu",
        "outputId": "31ce478b-f7ca-45b2-ad61-62671f2e0bc6"
      },
      "execution_count": null,
      "outputs": [
        {
          "output_type": "stream",
          "name": "stdout",
          "text": [
            "Ingrese una lista de números enteros separados por espacios: 10 20 30 45 33 44 22 13 23 34 \n",
            "Ingrese el número de elementos consecutivos para calcular la media móvil: 10\n",
            "Lista de medias móviles: [27.4]\n"
          ]
        }
      ]
    }
  ]
}